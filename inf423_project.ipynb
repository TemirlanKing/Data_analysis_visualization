{
 "cells": [
  {
   "cell_type": "code",
   "execution_count": 1,
   "id": "ae3db683",
   "metadata": {},
   "outputs": [],
   "source": [
    "import csv \n",
    "import time\n",
    "import requests\n",
    "from bs4 import BeautifulSoup\n",
    "import pandas as pd\n",
    "import numpy as np"
   ]
  },
  {
   "cell_type": "code",
   "execution_count": 3,
   "id": "a29a8efb",
   "metadata": {},
   "outputs": [
    {
     "name": "stdout",
     "output_type": "stream",
     "text": [
      "Found 21100 apartment links.\n"
     ]
    }
   ],
   "source": [
    "import requests\n",
    "from bs4 import BeautifulSoup\n",
    "import csv\n",
    "import time\n",
    "\n",
    "base_url = \"https://qazaqrepublic.com\"\n",
    "search_url = \"https://qazaqrepublic.com/shop\"\n",
    "\n",
    "apartment_links = []\n",
    "\n",
    "for page_num in range(0, 100):\n",
    "    current_page_url = f\"{search_url}?p={page_num}\"\n",
    "\n",
    "    response = requests.get(current_page_url)\n",
    "    time.sleep(1)\n",
    "    soup = BeautifulSoup(response.text, 'html.parser')\n",
    "\n",
    "    listings = soup.find_all('a', {'class': 'catalog_item'})\n",
    "    if not listings:\n",
    "        break  # No more listings, exit the loop\n",
    "\n",
    "    for item in listings:\n",
    "        link = item.get('href')  # Directly get 'href' attribute from 'item'\n",
    "        apartment_links.append(base_url + link)\n",
    "\n",
    "\n",
    "# Print the total number of links found\n",
    "print(f\"Found {len(apartment_links)} apartment links.\")\n",
    "\n",
    "with open('qr.csv', 'a', newline='', encoding='utf-8') as csvfile:\n",
    "    csv_writer = csv.writer(csvfile)\n",
    "    for apartment_link in apartment_links:\n",
    "        csv_writer.writerow([apartment_link])\n"
   ]
  },
  {
   "cell_type": "code",
   "execution_count": 4,
   "id": "c4e726a0",
   "metadata": {},
   "outputs": [
    {
     "data": {
      "text/plain": [
       "(21099, 1)"
      ]
     },
     "execution_count": 4,
     "metadata": {},
     "output_type": "execute_result"
    }
   ],
   "source": [
    "df = pd.read_csv('qr.csv')\n",
    "df.shape"
   ]
  },
  {
   "cell_type": "code",
   "execution_count": 5,
   "id": "badd93b4",
   "metadata": {},
   "outputs": [
    {
     "data": {
      "text/plain": [
       "(207, 1)"
      ]
     },
     "execution_count": 5,
     "metadata": {},
     "output_type": "execute_result"
    }
   ],
   "source": [
    "df = df.drop_duplicates()\n",
    "df.shape"
   ]
  },
  {
   "cell_type": "code",
   "execution_count": 6,
   "id": "208a9aa4",
   "metadata": {},
   "outputs": [],
   "source": [
    "df.to_csv('qr_notdubl.csv', index=False)"
   ]
  },
  {
   "cell_type": "code",
   "execution_count": 76,
   "id": "efd63c4c",
   "metadata": {},
   "outputs": [],
   "source": [
    "import requests\n",
    "from bs4 import BeautifulSoup\n",
    "import pandas as pd\n",
    "import time\n",
    "\n",
    "def qr_data(url):\n",
    "    response = requests.get(url)\n",
    "    time.sleep(1)\n",
    "    soup = BeautifulSoup(response.text, 'html.parser')\n",
    "    about_dict = {}\n",
    "    qrs = soup.findAll('div', attrs={'class': 'page'})\n",
    "    qr_tip = soup.find_all('div', class_='item_content')\n",
    "    \n",
    "    for qr in qr_tip:\n",
    "        qr_name = qr.find(\"div\", attrs={'class': 'item__name'}).text.split(' ', 1)[0]\n",
    "        qr_type = qr.find(\"div\", attrs={'class': 'item__name'}).text.strip(' ')\n",
    "        qr_color = qr.find(\"div\", attrs={'class': 'item__name'}).text.split(' ')[-1]\n",
    "        qr_price = qr.find(\"div\", attrs={'class': 'item__price'}).text.strip('')\n",
    "        \n",
    "    total_dict = {\"Name\": qr_name,\n",
    "                  \"Type\": qr_type,\n",
    "                  \"Color\": qr_color,\n",
    "                  \"Price\": qr_price}\n",
    "    \n",
    "    total_dict.update(about_dict)\n",
    "    return total_dict\n",
    "\n"
   ]
  },
  {
   "cell_type": "code",
   "execution_count": 80,
   "id": "3d494d68",
   "metadata": {},
   "outputs": [
    {
     "name": "stdout",
     "output_type": "stream",
     "text": [
      "1 https://qazaqrepublic.com/shop/sweatshirts/1007\n",
      "2 https://qazaqrepublic.com/shop/hoodies/1124\n",
      "3 https://qazaqrepublic.com/shop/bags/844\n",
      "4 https://qazaqrepublic.com/shop/t-shirts/1038\n",
      "5 https://qazaqrepublic.com/shop/t-shirts/1028\n",
      "6 https://qazaqrepublic.com/shop/t-shirts/1144\n",
      "7 https://qazaqrepublic.com/shop/t-shirts/1048\n",
      "8 https://qazaqrepublic.com/shop/t-shirts/1146\n",
      "9 https://qazaqrepublic.com/shop/t-shirts/1112\n",
      "10 https://qazaqrepublic.com/shop/t-shirts/1106\n"
     ]
    }
   ],
   "source": [
    "data = []\n",
    "df = pd.read_csv('qr_notdubl.csv')\n",
    "\n",
    "links = df.iloc[:, 0].values\n",
    "i = 1\n",
    "for link in links[0:10]:\n",
    "    try:\n",
    "        print(i, link)\n",
    "        i += 1\n",
    "        qr_result = qr_data(link)\n",
    "        data.append(qr_result)\n",
    "    except Exception as e:\n",
    "        print(f\"Failed to extract data from {link}. Error: {e}\")"
   ]
  },
  {
   "cell_type": "code",
   "execution_count": 81,
   "id": "8070a2ab",
   "metadata": {},
   "outputs": [],
   "source": [
    "df = pd.DataFrame(data, columns=['Name', 'Type','Color', 'Price'])\n",
    "df.to_csv(\"qrs_data.csv\", index=False) "
   ]
  },
  {
   "cell_type": "code",
   "execution_count": 82,
   "id": "5132b85e",
   "metadata": {},
   "outputs": [
    {
     "data": {
      "text/html": [
       "<div>\n",
       "<style scoped>\n",
       "    .dataframe tbody tr th:only-of-type {\n",
       "        vertical-align: middle;\n",
       "    }\n",
       "\n",
       "    .dataframe tbody tr th {\n",
       "        vertical-align: top;\n",
       "    }\n",
       "\n",
       "    .dataframe thead th {\n",
       "        text-align: right;\n",
       "    }\n",
       "</style>\n",
       "<table border=\"1\" class=\"dataframe\">\n",
       "  <thead>\n",
       "    <tr style=\"text-align: right;\">\n",
       "      <th></th>\n",
       "      <th>Name</th>\n",
       "      <th>Type</th>\n",
       "      <th>Color</th>\n",
       "      <th>Price</th>\n",
       "    </tr>\n",
       "  </thead>\n",
       "  <tbody>\n",
       "    <tr>\n",
       "      <th>0</th>\n",
       "      <td>КЕҢЖЕЙДЕ</td>\n",
       "      <td>КЕҢЖЕЙДЕ jaqsy künder СҰР МЕЛАНЖ</td>\n",
       "      <td>МЕЛАНЖ</td>\n",
       "      <td>18000₸</td>\n",
       "    </tr>\n",
       "    <tr>\n",
       "      <th>1</th>\n",
       "      <td>БҮРЖЕЙДЕ</td>\n",
       "      <td>БҮРЖЕЙДЕ Born qazaq ҚОҢЫР</td>\n",
       "      <td>ҚОҢЫР</td>\n",
       "      <td>22000₸</td>\n",
       "    </tr>\n",
       "    <tr>\n",
       "      <th>2</th>\n",
       "      <td>ДОРБА</td>\n",
       "      <td>ДОРБА B1 ҚАРА</td>\n",
       "      <td>ҚАРА</td>\n",
       "      <td>21000₸</td>\n",
       "    </tr>\n",
       "    <tr>\n",
       "      <th>3</th>\n",
       "      <td>ФУТБОЛКА</td>\n",
       "      <td>ФУТБОЛКА QRD АҚ</td>\n",
       "      <td>АҚ</td>\n",
       "      <td>9000₸</td>\n",
       "    </tr>\n",
       "    <tr>\n",
       "      <th>4</th>\n",
       "      <td>ФУТБОЛКА</td>\n",
       "      <td>ФУТБОЛКА QRD КҮЛ ТҮСТЕС</td>\n",
       "      <td>ТҮСТЕС</td>\n",
       "      <td>9000₸</td>\n",
       "    </tr>\n",
       "  </tbody>\n",
       "</table>\n",
       "</div>"
      ],
      "text/plain": [
       "       Name                              Type   Color   Price\n",
       "0  КЕҢЖЕЙДЕ  КЕҢЖЕЙДЕ jaqsy künder СҰР МЕЛАНЖ  МЕЛАНЖ  18000₸\n",
       "1  БҮРЖЕЙДЕ         БҮРЖЕЙДЕ Born qazaq ҚОҢЫР   ҚОҢЫР  22000₸\n",
       "2     ДОРБА                     ДОРБА B1 ҚАРА    ҚАРА  21000₸\n",
       "3  ФУТБОЛКА                   ФУТБОЛКА QRD АҚ      АҚ   9000₸\n",
       "4  ФУТБОЛКА           ФУТБОЛКА QRD КҮЛ ТҮСТЕС  ТҮСТЕС   9000₸"
      ]
     },
     "execution_count": 82,
     "metadata": {},
     "output_type": "execute_result"
    }
   ],
   "source": [
    "df = pd.read_csv(\"qrs_data.csv\")\n",
    "df.head(5)"
   ]
  },
  {
   "cell_type": "code",
   "execution_count": null,
   "id": "c2b33cb0",
   "metadata": {},
   "outputs": [],
   "source": []
  }
 ],
 "metadata": {
  "kernelspec": {
   "display_name": "Python 3 (ipykernel)",
   "language": "python",
   "name": "python3"
  },
  "language_info": {
   "codemirror_mode": {
    "name": "ipython",
    "version": 3
   },
   "file_extension": ".py",
   "mimetype": "text/x-python",
   "name": "python",
   "nbconvert_exporter": "python",
   "pygments_lexer": "ipython3",
   "version": "3.11.4"
  }
 },
 "nbformat": 4,
 "nbformat_minor": 5
}
